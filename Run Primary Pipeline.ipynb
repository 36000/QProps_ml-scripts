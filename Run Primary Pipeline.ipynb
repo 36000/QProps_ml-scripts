{
 "cells": [
  {
   "cell_type": "code",
   "execution_count": null,
   "metadata": {},
   "outputs": [],
   "source": [
    "# It is recomended you clone: https://github.com/36000/cnn_colorflow\n",
    "# Then modify BASE_DIR in cnn_colorflow/utilities/constants.py\n",
    "# Then run pip install -e . in the cnn_colorflow directory with setup.py\n",
    "\n",
    "# Otherwise, constants.BASE_DIR will default to ../../base_dir"
   ]
  },
  {
   "cell_type": "code",
   "execution_count": null,
   "metadata": {},
   "outputs": [],
   "source": [
    "from cnn_colorflow.final_scripts.pipeline import pipeline\n",
    "# standard, charged, untrimmed standard, and untrimmed charged datasets\n",
    "# should be stored in constants.BASE_DIR/samples/\n",
    "# and should have names listed below, with the file extension .h5\n",
    "datasets_s = ['h_qq', 'h_gg', 'cp_qq', 'qx_qg', 's8_gg', 'zp_qq', 'six_jj', 'x2_jj']\n",
    "datasets_c = ['h_qq_rot_charged', 'h_gg_rot_charged', 'cp_qq_rot_charged', 'qx_qg_rot_charged', 's8_gg_rot_charged', 'zp_qq_rot_charged',  'six_jj_rot_charged', 'x2_jj_rot_charged']\n",
    "datasets_untrimmed = ['cp_qq_untrim_standard', 'zp_qq_untrim_standard']\n",
    "datasets_untrimmed_charged = ['cp_qq_untrim_charged', 'zp_qq_untrim_charged']\n",
    "\n",
    "# This will train all possible combinations of datasets within the 4 dataset groups\n",
    "# Using all 3 models (CNN, energy flow, jet pull)\n",
    "# then create plots for all 3 of them (SIC, ROC, null hypothesis)\n",
    "# and save resulting predictions\n",
    "pipeline(datasets_s, False, n=n, skip=False)\n",
    "pipeline(datasets_c, True, n=n, skip=False)\n",
    "pipeline(datasets_untrimmed, False, n=n, skip=False)\n",
    "pipeline(datasets_untrimmed_charged, True, n=n, skip=False)"
   ]
  },
  {
   "cell_type": "code",
   "execution_count": null,
   "metadata": {},
   "outputs": [],
   "source": []
  }
 ],
 "metadata": {
  "kernelspec": {
   "display_name": "Python 3",
   "language": "python",
   "name": "python3"
  },
  "language_info": {
   "codemirror_mode": {
    "name": "ipython",
    "version": 3
   },
   "file_extension": ".py",
   "mimetype": "text/x-python",
   "name": "python",
   "nbconvert_exporter": "python",
   "pygments_lexer": "ipython3",
   "version": "3.7.0"
  }
 },
 "nbformat": 4,
 "nbformat_minor": 4
}
