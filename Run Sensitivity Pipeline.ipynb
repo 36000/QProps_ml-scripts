{
 "cells": [
  {
   "cell_type": "code",
   "execution_count": 1,
   "metadata": {},
   "outputs": [],
   "source": [
    "# It is recomended you clone: https://github.com/36000/cnn_colorflow\n",
    "# Then modify BASE_DIR in cnn_colorflow/utilities/constants.py\n",
    "# Then run pip install -e . in the cnn_colorflow directory with setup.py\n",
    "\n",
    "# Otherwise, constants.BASE_DIR will default to ../../base_dir"
   ]
  },
  {
   "cell_type": "code",
   "execution_count": null,
   "metadata": {},
   "outputs": [],
   "source": [
    "from cnn_colorflow.final_scripts.sensitivity_study import sen_stud\n",
    "# All datasets  should be stored in constants.BASE_DIR/samples/sensitivity_study\n",
    "# Files should have the following naming convention:\n",
    "# For each dataset in datasets,\n",
    "#    For each parameter in ['col_1', 'col_2', 'pp_21', 'pp_24', 'pp_25'],\n",
    "#       For each selection in ['standard', 'charged'],\n",
    "# there should be a file named '{dataset}_{parameter}_{selection}.h5'\n",
    "datasets = ['h_qq', 'h_gg', 'cp_qq', 'qx_qg', 's8_gg', 'zp_qq']\n",
    "\n",
    "# This will test all possible combinations of datasets\n",
    "# within their respective parameter / selection\n",
    "# Using the corresponding model trained without a change in parameter\n",
    "# then create plots (SIC, ROC) and save resulting predictions\n",
    "sen_stud(datasets, True)\n",
    "sen_stud(datasets, False)"
   ]
  }
 ],
 "metadata": {
  "kernelspec": {
   "display_name": "Python 3",
   "language": "python",
   "name": "python3"
  },
  "language_info": {
   "codemirror_mode": {
    "name": "ipython",
    "version": 3
   },
   "file_extension": ".py",
   "mimetype": "text/x-python",
   "name": "python",
   "nbconvert_exporter": "python",
   "pygments_lexer": "ipython3",
   "version": "3.7.0"
  }
 },
 "nbformat": 4,
 "nbformat_minor": 4
}
